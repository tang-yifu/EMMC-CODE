{
 "cells": [
  {
   "cell_type": "code",
   "execution_count": 1,
   "metadata": {},
   "outputs": [],
   "source": [
    "import numpy as np\n",
    "import pandas as pd\n",
    "import matplotlib.pyplot as plt\n",
    "from sklearn import preprocessing as scale\n",
    "from sklearn.model_selection import train_test_split\n",
    "from tqdm.notebook import tqdm\n",
    "from sklearn import mixture\n",
    "from sklearn.model_selection import train_test_split\n",
    "from sklearn.linear_model import LogisticRegression\n",
    "from sklearn.ensemble import RandomForestClassifier\n",
    "from sklearn.neighbors import KNeighborsClassifier"
   ]
  },
  {
   "cell_type": "code",
   "execution_count": 2,
   "metadata": {},
   "outputs": [],
   "source": [
    "input_file = [\"Backdoor.csv\" , \"DDoS_HTTP.csv\" , \"DDoS_ICMP.csv\" , \"DDoS_TCP.csv\" , \"DDoS_UDP.csv\"  , \"Password.csv\" , \"Port_Scanning.csv\" ,\"Ransomware.csv\", \"SQL_injection.csv\" , \"Uploading.csv\" , \"Vulnerability_scanner.csv\" ,\"XSS.csv\" ]"
   ]
  },
  {
   "cell_type": "code",
   "execution_count": 3,
   "metadata": {},
   "outputs": [],
   "source": [
    "def pred(x, clfs, p_nodes, gms):\n",
    "    p_x_node = np.zeros((len(x), len(clfs))) # p[x, in node i] = p(x | x in Node i) * p(x in Node i)\n",
    "    p_y_given_node = np.zeros((len(x), len(clfs))) # p[y | x, node i]\n",
    "    for i in tqdm(range(len(clfs))):\n",
    "        p_x_node[:, i] = p_nodes[i] * np.exp(gms[i].score_samples(x))\n",
    "        p_y_given_node[:, i] = clfs[i].predict_proba(x)[:, 1]\n",
    "    \n",
    "    p_y = p_y_given_node * p_x_node / (np.sum(p_x_node, axis=-1, keepdims=True) + 1e-10)\n",
    "\n",
    "    p_y = np.hstack([1-np.sum(p_y, axis=-1, keepdims=True), p_y])\n",
    "\n",
    "    return np.argmax(p_y, axis=-1)"
   ]
  },
  {
   "cell_type": "code",
   "execution_count": 4,
   "metadata": {},
   "outputs": [],
   "source": [
    "columns_to_drop_bi = ['Attack_type','Attack_label']\n",
    "\n",
    "data_list = []\n",
    "for i in range(len(input_file)):\n",
    "    data = pd.read_csv(input_file[i])\n",
    "    data.drop(columns = columns_to_drop_bi, inplace = True)\n",
    "    data_list.append(data)\n",
    "\n"
   ]
  },
  {
   "cell_type": "code",
   "execution_count": 5,
   "metadata": {},
   "outputs": [],
   "source": [
    "rs = 42 # set the random state"
   ]
  },
  {
   "cell_type": "code",
   "execution_count": 6,
   "metadata": {},
   "outputs": [
    {
     "data": {
      "application/vnd.jupyter.widget-view+json": {
       "model_id": "c7c5bed2695e4c6b9e742e5943ffc279",
       "version_major": 2,
       "version_minor": 0
      },
      "text/plain": [
       "HBox(children=(HTML(value=''), FloatProgress(value=0.0, max=12.0), HTML(value='')))"
      ]
     },
     "metadata": {},
     "output_type": "display_data"
    },
    {
     "name": "stdout",
     "output_type": "stream",
     "text": [
      "\n",
      "total number is  155169\n",
      "The proportion of the nodes are: [0.07765726 0.08044133 0.10732814 0.07805038 0.11043443 0.07608478\n",
      " 0.07670991 0.08321894 0.07854017 0.07821794 0.07674858 0.07656813]\n"
     ]
    }
   ],
   "source": [
    "from sklearn.svm import SVC\n",
    "clfs = [] # This is going to contain 14 different classifiers\n",
    "n_samples = []\n",
    "x_train_list = []\n",
    "y_train_list = []\n",
    "x_test_list = []\n",
    "y_test_list = []\n",
    "y = [np.ones(len(data_list[i])) * (i + 1) for i in range(len(data_list))]\n",
    "for i in tqdm(range(len(input_file))): # reading the data\n",
    "    data0 = pd.read_csv(input_file[i])\n",
    "    y[i][data0.Attack_type ==\"Normal\"] = 0\n",
    "    n_samples.append(len(y[i])) # the number of this node\n",
    "    x = data_list[i]\n",
    "    x_train, x_test, y_train, y_test = train_test_split(x, y[i], test_size = 0.25, random_state = rs)\n",
    "    x_train_list.append(x_train)\n",
    "    y_train_list.append(y_train)\n",
    "    x_test_list.append(x_test)\n",
    "    y_test_list.append(y_test)\n",
    "x_train_full = pd.concat(x_train_list, ignore_index=True)\n",
    "scaler = scale.StandardScaler().fit(x_train_full)\n",
    "\n",
    "for i in range(len(input_file)):\n",
    "    x_train_list[i] = scaler.transform(x_train_list[i])\n",
    "    classifier =  KNeighborsClassifier()\n",
    "    classifier.fit(x_train_list[i], y_train_list[i])\n",
    "    clfs.append(classifier)\n",
    "\n",
    "total_n_samples = np.sum(n_samples)\n",
    "print('total number is ',total_n_samples)\n",
    "p_nodes =  np.array(n_samples) / total_n_samples\n",
    "print('The proportion of the nodes are:', p_nodes)\n",
    "\n"
   ]
  },
  {
   "cell_type": "code",
   "execution_count": 7,
   "metadata": {},
   "outputs": [
    {
     "data": {
      "application/vnd.jupyter.widget-view+json": {
       "model_id": "89b944fbb9c746b6a55b496fb842f6f3",
       "version_major": 2,
       "version_minor": 0
      },
      "text/plain": [
       "HBox(children=(HTML(value=''), FloatProgress(value=0.0, max=12.0), HTML(value='')))"
      ]
     },
     "metadata": {},
     "output_type": "display_data"
    },
    {
     "name": "stdout",
     "output_type": "stream",
     "text": [
      "\n"
     ]
    }
   ],
   "source": [
    "from sklearn.mixture import GaussianMixture\n",
    "gms = []\n",
    "K = 30 # The number of the components of the GMM, one could change it by analyzing the graph\n",
    "for i in tqdm(range(len(input_file))):\n",
    "    gm = GaussianMixture(n_components = K).fit(x_train_list[i])  \n",
    "    gms.append(gm)"
   ]
  },
  {
   "cell_type": "code",
   "execution_count": 8,
   "metadata": {},
   "outputs": [],
   "source": [
    "for i in range(len(input_file)):\n",
    "    x_test_list[i] = scaler.transform(x_test_list[i])"
   ]
  },
  {
   "cell_type": "code",
   "execution_count": 9,
   "metadata": {},
   "outputs": [
    {
     "data": {
      "application/vnd.jupyter.widget-view+json": {
       "model_id": "e5a741576f7d43e0a00c32e6e59cba31",
       "version_major": 2,
       "version_minor": 0
      },
      "text/plain": [
       "HBox(children=(HTML(value=''), FloatProgress(value=0.0, max=12.0), HTML(value='')))"
      ]
     },
     "metadata": {},
     "output_type": "display_data"
    },
    {
     "name": "stdout",
     "output_type": "stream",
     "text": [
      "\n"
     ]
    }
   ],
   "source": [
    "x_test = np.vstack(x_test_list)\n",
    "y_test = np.hstack(y_test_list)\n",
    "x_train = np.vstack(x_train_list)\n",
    "y_train = np.hstack(y_train_list)\n",
    "\n",
    "prediction = pred(x_test, clfs, p_nodes, gms)"
   ]
  },
  {
   "cell_type": "code",
   "execution_count": 10,
   "metadata": {},
   "outputs": [
    {
     "name": "stdout",
     "output_type": "stream",
     "text": [
      "Overall accuracy is: 0.6767101396979226\n"
     ]
    }
   ],
   "source": [
    "correct = prediction == y_test\n",
    "accuracy = np.mean(correct)\n",
    "print('Overall accuracy is:', accuracy)"
   ]
  },
  {
   "cell_type": "code",
   "execution_count": 11,
   "metadata": {},
   "outputs": [
    {
     "name": "stdout",
     "output_type": "stream",
     "text": [
      "Recalls: [0.663402489626556, 0.8919025157232704, 0.6120820668693009, 0.9997157475838545, 0.7298670836591087, 0.9997241379310344, 0.31219903691813805, 0.834061135371179, 0.8529411764705882, 0.39883268482490275, 0.197265625, 0.8222927409758033, 0.22593476531424025]\n",
      "Precision: [0.551614683963566, 0.9011119936457506, 0.4826243259436788, 1.0, 0.8156400174748799, 1.0, 0.3197698314837649, 0.6682569974554707, 0.8821292775665399, 0.26938239159001315, 0.7266187050359713, 0.9971139971139971, 0.3837837837837838]\n"
     ]
    }
   ],
   "source": [
    "recalls = []\n",
    "for i in range(len(input_file)+1):\n",
    "    if len(correct[y_test==i]) == 0:\n",
    "        recalls.append(0)\n",
    "    else:\n",
    "        recalls.append(np.mean(correct[y_test==i]))\n",
    "print('Recalls:', recalls)\n",
    "precisions = []\n",
    "for i in range(len(input_file)+1):\n",
    "    if len(correct[prediction==i]) == 0:\n",
    "        precisions.append(0)\n",
    "    else:\n",
    "        precisions.append(np.mean(correct[prediction==i]))\n",
    "print('Precision:', precisions)"
   ]
  },
  {
   "attachments": {},
   "cell_type": "markdown",
   "metadata": {},
   "source": [
    "Centralized:"
   ]
  },
  {
   "cell_type": "code",
   "execution_count": 12,
   "metadata": {},
   "outputs": [
    {
     "data": {
      "text/plain": [
       "KNeighborsClassifier()"
      ]
     },
     "execution_count": 12,
     "metadata": {},
     "output_type": "execute_result"
    }
   ],
   "source": [
    "classifier = KNeighborsClassifier()\n",
    "classifier.fit(x_train, y_train)\n"
   ]
  },
  {
   "cell_type": "code",
   "execution_count": 13,
   "metadata": {},
   "outputs": [
    {
     "name": "stdout",
     "output_type": "stream",
     "text": [
      "Overall accuracy is: 0.6463219753595546\n",
      "Recalls: [0.6946058091286307, 0.9300314465408805, 0.46200607902735563, 0.9997157475838545, 0.7978889757623143, 0.9997241379310344, 0.24077046548956663, 0.6383485510123065, 0.7878676470588235, 0.24941634241245136, 0.23671875, 0.7786592621975407, 0.2251392203659507]\n",
      "Precisions: [0.5088145896656535, 0.6723500994600738, 0.46877409406322285, 1.0, 0.729188996070025, 1.0, 0.27347310847766637, 0.7175368139223561, 0.8818930041152263, 0.33472584856396864, 0.3441226575809199, 0.8802690582959641, 0.32361349342481416]\n"
     ]
    }
   ],
   "source": [
    "# pred_full = classifier.predict(X_test)\n",
    "pred_full = classifier.predict(x_test)\n",
    "# correct_full = pred_full == Y_test\n",
    "correct_full = pred_full == y_test\n",
    "accuracy_full = np.mean(correct_full)\n",
    "print('Overall accuracy is:', accuracy_full)\n",
    "accs_full = []\n",
    "for i in range(len(input_file)+1):\n",
    "    if len(correct[y_test==i]) == 0:\n",
    "        accs_full.append(0)\n",
    "    else:\n",
    "        accs_full.append(np.mean(correct_full[y_test==i]))\n",
    "print('Recalls:', accs_full)\n",
    "recalls_full = []\n",
    "for i in range(len(input_file)+1):\n",
    "    if len(correct_full[pred_full==i]) == 0:\n",
    "        recalls_full.append(0)\n",
    "    else:\n",
    "        recalls_full.append(np.mean(correct_full[pred_full==i]))\n",
    "print('Precisions:', recalls_full)"
   ]
  },
  {
   "attachments": {},
   "cell_type": "markdown",
   "metadata": {},
   "source": [
    "Balancing the data"
   ]
  },
  {
   "cell_type": "code",
   "execution_count": 14,
   "metadata": {},
   "outputs": [
    {
     "name": "stdout",
     "output_type": "stream",
     "text": [
      "2000\n",
      "2000\n",
      "2000\n",
      "2000\n",
      "2000\n",
      "2000\n",
      "2000\n",
      "2000\n",
      "2000\n",
      "2000\n",
      "2000\n",
      "2000\n"
     ]
    },
    {
     "data": {
      "application/vnd.jupyter.widget-view+json": {
       "model_id": "4990ddbd1e5f491d966322073161eb25",
       "version_major": 2,
       "version_minor": 0
      },
      "text/plain": [
       "HBox(children=(HTML(value=''), FloatProgress(value=0.0, max=12.0), HTML(value='')))"
      ]
     },
     "metadata": {},
     "output_type": "display_data"
    },
    {
     "name": "stdout",
     "output_type": "stream",
     "text": [
      "\n"
     ]
    },
    {
     "data": {
      "application/vnd.jupyter.widget-view+json": {
       "model_id": "657efabd8ff846f6b399138dcab8f9ed",
       "version_major": 2,
       "version_minor": 0
      },
      "text/plain": [
       "HBox(children=(HTML(value=''), FloatProgress(value=0.0, max=12.0), HTML(value='')))"
      ]
     },
     "metadata": {},
     "output_type": "display_data"
    },
    {
     "name": "stdout",
     "output_type": "stream",
     "text": [
      "\n",
      "total number is  24000\n",
      "The proportion of the nodes are: [0.08333333 0.08333333 0.08333333 0.08333333 0.08333333 0.08333333\n",
      " 0.08333333 0.08333333 0.08333333 0.08333333 0.08333333 0.08333333]\n"
     ]
    },
    {
     "data": {
      "application/vnd.jupyter.widget-view+json": {
       "model_id": "ed88219d07a845f786e10cb4b675e961",
       "version_major": 2,
       "version_minor": 0
      },
      "text/plain": [
       "HBox(children=(HTML(value=''), FloatProgress(value=0.0, max=12.0), HTML(value='')))"
      ]
     },
     "metadata": {},
     "output_type": "display_data"
    },
    {
     "name": "stdout",
     "output_type": "stream",
     "text": [
      "\n"
     ]
    },
    {
     "data": {
      "application/vnd.jupyter.widget-view+json": {
       "model_id": "3b0eab23e5134a5cb6ee30a3f6e79e20",
       "version_major": 2,
       "version_minor": 0
      },
      "text/plain": [
       "HBox(children=(HTML(value=''), FloatProgress(value=0.0, max=12.0), HTML(value='')))"
      ]
     },
     "metadata": {},
     "output_type": "display_data"
    },
    {
     "name": "stdout",
     "output_type": "stream",
     "text": [
      "\n",
      "Accuracies: [0.9860570687418937, 0.7777777777777778, 0.32098765432098764, 0.9958847736625515, 0.7037037037037037, 1.0, 0.12345679012345678, 0.7983539094650206, 0.4074074074074074, 0.1440329218106996, 0.13168724279835392, 0.7860082304526749, 0.1728395061728395]\n",
      "Recalls: [0.7413456850316918, 0.8111587982832618, 0.8387096774193549, 1.0, 0.7339055793991416, 1.0, 0.8108108108108109, 0.6298701298701299, 0.7674418604651163, 0.5555555555555556, 0.5, 0.9845360824742269, 0.711864406779661]\n",
      "Overall accuracy is: 0.727\n",
      "Recalls: [0.9228274967574579, 0.7860082304526749, 0.27983539094650206, 0.9958847736625515, 0.8024691358024691, 0.9876543209876543, 0.09465020576131687, 0.6460905349794238, 0.6213991769547325, 0.10699588477366255, 0.13991769547325103, 0.7654320987654321, 0.012345679012345678]\n",
      "Precisions: [0.7595409661062184, 0.49226804123711343, 0.4358974358974359, 0.9877551020408163, 0.7014388489208633, 1.0, 0.25842696629213485, 0.7235023041474654, 0.6771300448430493, 0.36619718309859156, 0.33663366336633666, 0.8532110091743119, 0.1111111111111111]\n"
     ]
    }
   ],
   "source": [
    "from sklearn.ensemble import RandomForestClassifier\n",
    "from sklearn.neighbors import KNeighborsClassifier\n",
    "columns_to_drop_bi = ['Attack_type']\n",
    "\n",
    "data_list = []\n",
    "for i in range(len(input_file)):\n",
    "    data = pd.read_csv(input_file[i])\n",
    "    data['attack_type'] = i + 1\n",
    "    data.loc[data.Attack_type == 'Normal', 'attack_type'] = 0\n",
    "    data.drop(columns = columns_to_drop_bi, inplace = True)\n",
    "    if len(data) < 2000:\n",
    "        data_list.append(data)\n",
    "    else:\n",
    "        data0 = data[data['attack_type'].isin([0])]\n",
    "        x1 = data0.sample(n = 1000, random_state = i + 42, axis = 0)\n",
    "        data1 = data[data['attack_type'].isin([i+1])]\n",
    "        x2 = data1.sample(n = 1000, random_state = i + 43, axis = 0)   \n",
    "        data_selected = pd.concat([x1, x2], ignore_index=True)  \n",
    "        data_list.append(data_selected) \n",
    "for i in range(len(data_list)):\n",
    "    print(len(data_list[i]))  \n",
    "\n",
    "\n",
    "rs = 42 # set the random state\n",
    "\n",
    "clfs = [] # This is going to contain 14 different classifiers\n",
    "n_samples = []\n",
    "x_train_list = []\n",
    "y_train_list = []\n",
    "x_test_list = []\n",
    "y_test_list = []\n",
    "y = [np.ones(len(data_list[i])) * (i + 1) for i in range(len(data_list))]\n",
    "for i in tqdm(range(len(input_file))): # reading the data\n",
    "    data0 = data_list[i]\n",
    "    y[i][data0.attack_type == 0] = 0\n",
    "    n_samples.append(len(y[i])) # the number of this node\n",
    "    x = data_list[i]\n",
    "    x = x.drop(columns=['attack_type' , 'Attack_label'])\n",
    "    x_train, x_test, y_train, y_test = train_test_split(x, y[i], test_size = 0.25, random_state = rs)\n",
    "    x_train_list.append(x_train)\n",
    "    y_train_list.append(y_train)\n",
    "    x_test_list.append(x_test)\n",
    "    y_test_list.append(y_test)\n",
    "\n",
    "x_train_full = pd.concat(x_train_list, ignore_index=True)\n",
    "scaler = scale.StandardScaler().fit(x_train_full)\n",
    "\n",
    "for i in range(len(input_file)):\n",
    "    x_train_list[i] = scaler.transform(x_train_list[i])\n",
    "\n",
    "for i in tqdm(range(len(input_file))):\n",
    "    classifier = KNeighborsClassifier()\n",
    "    classifier.fit(x_train_list[i], y_train_list[i])\n",
    "    clfs.append(classifier)\n",
    "\n",
    "total_n_samples = np.sum(n_samples)\n",
    "print('total number is ',total_n_samples)\n",
    "p_nodes =  np.array(n_samples) / total_n_samples\n",
    "print('The proportion of the nodes are:', p_nodes)\n",
    "\n",
    "for i in range(len(input_file)):\n",
    "    x_test_list[i] = scaler.transform(x_test_list[i])\n",
    "\n",
    "x_test = np.vstack(x_test_list)\n",
    "y_test = np.hstack(y_test_list)\n",
    "x_train = np.vstack(x_train_list)\n",
    "y_train = np.hstack(y_train_list)\n",
    "\n",
    "# GMM\n",
    "from sklearn.mixture import GaussianMixture\n",
    "gms = []\n",
    "K = 30 # The number of the components of the GMM, one could change it by analyzing the graph\n",
    "for i in tqdm(range(len(input_file))):\n",
    "    x = x_train_list[i]\n",
    "    gm = GaussianMixture(n_components = K).fit(x)  \n",
    "    gms.append(gm)\n",
    "\n",
    "prediction_b = pred(x_test, clfs, p_nodes, gms)\n",
    "\n",
    "correct_b = prediction_b == y_test\n",
    "\n",
    "accs_b = []\n",
    "for i in range(len(input_file)+1):\n",
    "    if len(correct_b[y_test==i]) == 0:\n",
    "        accs_b.append(0)\n",
    "    else:\n",
    "        accs_b.append(np.mean(correct_b[y_test==i]))\n",
    "print('Accuracies:', accs_b)\n",
    "recalls_b = []\n",
    "for i in range(len(input_file)+1):\n",
    "    if len(correct_b[prediction_b==i]) == 0:\n",
    "        recalls_b.append(0)\n",
    "    else:\n",
    "        recalls_b.append(np.mean(correct_b[prediction_b==i]))\n",
    "print('Recalls:', recalls_b)\n",
    "\n",
    "classifier = KNeighborsClassifier()\n",
    "classifier.fit(x_train, y_train)\n",
    "\n",
    "# pred_full = classifier.predict(X_test)\n",
    "pred_full_b = classifier.predict(x_test)\n",
    "# correct_full = pred_full == Y_test\n",
    "correct_full_b = pred_full_b == y_test\n",
    "accuracy_full_b = np.mean(correct_full_b)\n",
    "print('Overall accuracy is:', accuracy_full_b)\n",
    "recalls_full_b = []\n",
    "for i in range(len(input_file)+1):\n",
    "    if len(correct_b[y_test==i]) == 0:\n",
    "        recalls_full_b.append(0)\n",
    "    else:\n",
    "        recalls_full_b.append(np.mean(correct_full_b[y_test==i]))\n",
    "print('Recalls:', recalls_full_b)\n",
    "prec_full_b = []\n",
    "for i in range(len(input_file)+1):\n",
    "    if len(correct_full_b[pred_full_b==i]) == 0:\n",
    "        prec_full_b.append(0)\n",
    "    else:\n",
    "        prec_full_b.append(np.mean(correct_full_b[pred_full_b==i]))\n",
    "print('Precisions:', prec_full_b)\n"
   ]
  },
  {
   "cell_type": "code",
   "execution_count": 15,
   "metadata": {},
   "outputs": [
    {
     "data": {
      "image/png": "[encoded data removed]",
      "text/plain": [
       "<Figure size 432x288 with 1 Axes>"
      ]
     },
     "metadata": {
      "needs_background": "light"
     },
     "output_type": "display_data"
    },
    {
     "data": {
      "image/png": "[encoded data removed]",
      "text/plain": [
       "<Figure size 432x288 with 1 Axes>"
      ]
     },
     "metadata": {
      "needs_background": "light"
     },
     "output_type": "display_data"
    }
   ],
   "source": [
    "p_balanced = [12000]\n",
    "p_balanced += n_samples\n",
    "p_balanced /= np.sum(p_balanced)\n",
    "p_labels =[0.19,0.07765726, 0.08044133, 0.10732814, 0.07805038, 0.11043443, 0.07608478,\n",
    " 0.07670991, 0.08321894, 0.07854017, 0.07821794, 0.07674858, 0.07656813]\n",
    "fig,ax = plt.subplots()\n",
    "width = 0.4\n",
    "x1 = np.arange(len(input_file)+1)\n",
    "ax.bar(x1, np.array(recalls),width, alpha=0.7, label='Ensembled (unbalanced)', color='maroon')\n",
    "ax.bar(x1, np.array(accs_full),width, alpha=0.7, label='Full (unbalanced)', color='deepskyblue')\n",
    "ax.bar(x1+width, np.array(accs_b),width, alpha=0.7, label='Ensembled (balanced)', color='r')\n",
    "ax.bar(x1+width, np.array(recalls_full_b),width, alpha=0.7,  label='Full (balanced)', color='b')\n",
    "plt.plot(x1, p_labels, color='y', linestyle= '--',label='Sample Proportion(unbalanced)')\n",
    "plt.plot(x1, p_balanced, color='lightsalmon',linestyle= '-', label='Sample Proportion (balanced)')\n",
    "\n",
    "ax.set_xticks(x1 +width/2)#将坐标设置在指定位置\n",
    "\n",
    "ax.set_xticklabels(x1)#将横坐标替换成\n",
    "plt.scatter(x1, p_labels, color='k')\n",
    "plt.xlabel('Class')\n",
    "plt.ylabel('Recall')\n",
    "plt.legend(bbox_to_anchor=(1.05, 0.5), loc=3, borderaxespad=0)\n",
    "plt.show()\n",
    "\n",
    "\n",
    "fig,ax = plt.subplots()\n",
    "ax.bar(x1, np.array(precisions),width, alpha=0.7, label='Ensembled (unbalanced)', color='maroon')\n",
    "ax.bar(x1, np.array(recalls_full),width, alpha=0.7, label='Full (unbalanced)', color='deepskyblue')\n",
    "ax.bar(x1+width, np.array(recalls_b),width, alpha=0.7, label='Ensembled (balanced)', color='r')\n",
    "ax.bar(x1+width, np.array(prec_full_b),width, alpha=0.7,  label='Full (balanced)', color='b')\n",
    "plt.plot(x1, p_labels, color='y', linestyle= '--',label='Sample Proportion (unbalanced)')\n",
    "plt.plot(x1, p_balanced, color='lightsalmon',linestyle= '-', label='Sample Proportion (balanced)')\n",
    "\n",
    "ax.set_xticks(x1 +width/2)#将坐标设置在指定位置\n",
    "\n",
    "ax.set_xticklabels(x1)#将横坐标替换成\n",
    "plt.scatter(x1, p_labels, color='k')\n",
    "plt.xlabel('Class')\n",
    "plt.ylabel('Precisions')\n",
    "plt.legend(bbox_to_anchor=(1.05, 0.5), loc=3, borderaxespad=0)\n",
    "plt.show()"
   ]
  },
  {
   "cell_type": "code",
   "execution_count": null,
   "metadata": {},
   "outputs": [],
   "source": []
  }
 ],
 "metadata": {
  "interpreter": {
   "hash": "4ad6a9ebe595c8604775664ccb6b4edb43e0871577ed89c469f16f6efb723bbd"
  },
  "kernelspec": {
   "display_name": "Python 3.8.5 ('base')",
   "language": "python",
   "name": "python3"
  },
  "language_info": {
   "codemirror_mode": {
    "name": "ipython",
    "version": 3
   },
   "file_extension": ".py",
   "mimetype": "text/x-python",
   "name": "python",
   "nbconvert_exporter": "python",
   "pygments_lexer": "ipython3",
   "version": "3.8.5"
  },
  "orig_nbformat": 4
 },
 "nbformat": 4,
 "nbformat_minor": 2
}
