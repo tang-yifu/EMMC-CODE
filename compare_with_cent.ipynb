{
 "cells": [
  {
   "cell_type": "code",
   "execution_count": 1,
   "metadata": {},
   "outputs": [],
   "source": [
    "import numpy as np\n",
    "import pandas as pd\n",
    "import matplotlib.pyplot as plt\n",
    "from sklearn import preprocessing as scale\n",
    "from sklearn.model_selection import train_test_split\n",
    "from tqdm.notebook import tqdm\n",
    "from sklearn import mixture\n",
    "from sklearn.model_selection import train_test_split\n",
    "from sklearn.linear_model import LogisticRegression"
   ]
  },
  {
   "cell_type": "code",
   "execution_count": 2,
   "metadata": {},
   "outputs": [],
   "source": [
    "input_file = [\"Backdoor.csv\" , \"DDoS_HTTP.csv\" , \"DDoS_ICMP.csv\" , \"DDoS_TCP.csv\" , \"DDoS_UDP.csv\"  , \"Password.csv\" , \"Port_Scanning.csv\" ,\"Ransomware.csv\", \"SQL_injection.csv\" , \"Uploading.csv\" , \"Vulnerability_scanner.csv\" ,\"XSS.csv\" ]"
   ]
  },
  {
   "cell_type": "code",
   "execution_count": 3,
   "metadata": {},
   "outputs": [],
   "source": [
    "def pred(x, clfs, p_nodes, gms):\n",
    "    p_x_node = np.zeros((len(x), len(clfs))) # p[x, in node i] = p(x | x in Node i) * p(x in Node i)\n",
    "    p_y_given_node = np.zeros((len(x), len(clfs))) # p[y | x, node i]\n",
    "    for i in tqdm(range(len(clfs))):\n",
    "        p_x_node[:, i] = p_nodes[i] * np.exp(gms[i].score_samples(x))\n",
    "        p_y_given_node[:, i] = clfs[i].predict_proba(x)[:, 1]\n",
    "    \n",
    "    p_y = p_y_given_node * p_x_node / (np.sum(p_x_node, axis=-1, keepdims=True) + 1e-10)\n",
    "\n",
    "    p_y = np.hstack([1-np.sum(p_y, axis=-1, keepdims=True), p_y])\n",
    "\n",
    "    return np.argmax(p_y, axis=-1)"
   ]
  },
  {
   "cell_type": "code",
   "execution_count": 4,
   "metadata": {},
   "outputs": [],
   "source": [
    "columns_to_drop_bi = ['Attack_type','Attack_label']\n",
    "\n",
    "data_list = []\n",
    "for i in range(len(input_file)):\n",
    "    data = pd.read_csv(input_file[i])\n",
    "    data.drop(columns = columns_to_drop_bi, inplace = True)\n",
    "    data_list.append(data)\n",
    "\n"
   ]
  },
  {
   "cell_type": "code",
   "execution_count": 5,
   "metadata": {},
   "outputs": [],
   "source": [
    "rs = 42 # set the random state"
   ]
  },
  {
   "cell_type": "code",
   "execution_count": 6,
   "metadata": {},
   "outputs": [
    {
     "data": {
      "application/vnd.jupyter.widget-view+json": {
       "model_id": "388a194fb97541cb85be53fb7feaa0ae",
       "version_major": 2,
       "version_minor": 0
      },
      "text/plain": [
       "HBox(children=(HTML(value=''), FloatProgress(value=0.0, max=12.0), HTML(value='')))"
      ]
     },
     "metadata": {},
     "output_type": "display_data"
    },
    {
     "name": "stdout",
     "output_type": "stream",
     "text": [
      "\n",
      "total number is  155169\n",
      "The proportion of the nodes are: [0.07765726 0.08044133 0.10732814 0.07805038 0.11043443 0.07608478\n",
      " 0.07670991 0.08321894 0.07854017 0.07821794 0.07674858 0.07656813]\n"
     ]
    }
   ],
   "source": [
    "from sklearn.svm import SVC\n",
    "clfs = [] # This is going to contain 14 different classifiers\n",
    "n_samples = []\n",
    "x_train_list = []\n",
    "y_train_list = []\n",
    "x_test_list = []\n",
    "y_test_list = []\n",
    "y = [np.ones(len(data_list[i])) * (i + 1) for i in range(len(data_list))]\n",
    "for i in tqdm(range(len(input_file))): # reading the data\n",
    "    data0 = pd.read_csv(input_file[i])\n",
    "    y[i][data0.Attack_type ==\"Normal\"] = 0\n",
    "    n_samples.append(len(y[i])) # the number of this node\n",
    "    x = data_list[i]\n",
    "    x_train, x_test, y_train, y_test = train_test_split(x, y[i], test_size = 0.25, random_state = rs)\n",
    "    x_train_list.append(x_train)\n",
    "    y_train_list.append(y_train)\n",
    "    x_test_list.append(x_test)\n",
    "    y_test_list.append(y_test)\n",
    "x_train_full = pd.concat(x_train_list, ignore_index=True)\n",
    "scaler = scale.StandardScaler().fit(x_train_full)\n",
    "\n",
    "for i in range(len(input_file)):\n",
    "    x_train_list[i] = scaler.transform(x_train_list[i])\n",
    "    classifier = SVC(kernel = 'rbf', random_state = 41, gamma='scale',max_iter=-1, probability=True)\n",
    "    classifier.fit(x_train_list[i], y_train_list[i])\n",
    "    clfs.append(classifier)\n",
    "\n",
    "total_n_samples = np.sum(n_samples)\n",
    "print('total number is ',total_n_samples)\n",
    "p_nodes =  np.array(n_samples) / total_n_samples\n",
    "print('The proportion of the nodes are:', p_nodes)\n",
    "\n"
   ]
  },
  {
   "cell_type": "code",
   "execution_count": 7,
   "metadata": {},
   "outputs": [
    {
     "data": {
      "application/vnd.jupyter.widget-view+json": {
       "model_id": "5d9e8f5ff75e4e1181317f0ebf1b554a",
       "version_major": 2,
       "version_minor": 0
      },
      "text/plain": [
       "HBox(children=(HTML(value=''), FloatProgress(value=0.0, max=12.0), HTML(value='')))"
      ]
     },
     "metadata": {},
     "output_type": "display_data"
    },
    {
     "name": "stdout",
     "output_type": "stream",
     "text": [
      "\n"
     ]
    }
   ],
   "source": [
    "from sklearn.mixture import GaussianMixture\n",
    "gms = []\n",
    "K = 15 # The number of the components of the GMM, one could change it by analyzing the graph\n",
    "for i in tqdm(range(len(input_file))):\n",
    "    gm = GaussianMixture(n_components = K).fit(x_train_list[i])  \n",
    "    gms.append(gm)"
   ]
  },
  {
   "cell_type": "code",
   "execution_count": 8,
   "metadata": {},
   "outputs": [],
   "source": [
    "for i in range(len(input_file)):\n",
    "    x_test_list[i] = scaler.transform(x_test_list[i])"
   ]
  },
  {
   "cell_type": "code",
   "execution_count": 9,
   "metadata": {},
   "outputs": [
    {
     "data": {
      "application/vnd.jupyter.widget-view+json": {
       "model_id": "bc7be70cf9b24178b569d72e3582b4b0",
       "version_major": 2,
       "version_minor": 0
      },
      "text/plain": [
       "HBox(children=(HTML(value=''), FloatProgress(value=0.0, max=12.0), HTML(value='')))"
      ]
     },
     "metadata": {},
     "output_type": "display_data"
    },
    {
     "name": "stdout",
     "output_type": "stream",
     "text": [
      "\n"
     ]
    }
   ],
   "source": [
    "x_test = np.vstack(x_test_list)\n",
    "y_test = np.hstack(y_test_list)\n",
    "x_train = np.vstack(x_train_list)\n",
    "y_train = np.hstack(y_train_list)\n",
    "\n",
    "prediction = pred(x_test, clfs, p_nodes, gms)"
   ]
  },
  {
   "cell_type": "code",
   "execution_count": 10,
   "metadata": {},
   "outputs": [
    {
     "name": "stdout",
     "output_type": "stream",
     "text": [
      "Overall accuracy is: 0.5727872570751069\n"
     ]
    }
   ],
   "source": [
    "correct = prediction == y_test\n",
    "accuracy = np.mean(correct)\n",
    "print('Overall accuracy is:', accuracy)"
   ]
  },
  {
   "cell_type": "code",
   "execution_count": 11,
   "metadata": {},
   "outputs": [
    {
     "name": "stdout",
     "output_type": "stream",
     "text": [
      "Recalls: [0.46224066390041496, 0.5911949685534591, 0.5338145896656535, 0.9997157475838545, 0.5918686473807663, 0.9997241379310344, 0.1548956661316212, 0.9674473997618103, 0.07647058823529412, 0.7766536964980545, 0.186328125, 0.8068226894089647, 0.13365155131264916]\n",
      "Precision: [0.8470194647201946, 0.5231304347826087, 0.41679026994956986, 1.0, 1.0, 1.0, 0.4223194748358862, 0.6202596080427589, 0.43243243243243246, 0.1669594312003346, 0.792358803986711, 0.8662691652470187, 0.8842105263157894]\n"
     ]
    }
   ],
   "source": [
    "recalls = []\n",
    "for i in range(len(input_file)+1):\n",
    "    if len(correct[y_test==i]) == 0:\n",
    "        recalls.append(0)\n",
    "    else:\n",
    "        recalls.append(np.mean(correct[y_test==i]))\n",
    "print('Recalls:', recalls)\n",
    "precisions = []\n",
    "for i in range(len(input_file)+1):\n",
    "    if len(correct[prediction==i]) == 0:\n",
    "        precisions.append(0)\n",
    "    else:\n",
    "        precisions.append(np.mean(correct[prediction==i]))\n",
    "print('Precision:', precisions)"
   ]
  },
  {
   "attachments": {},
   "cell_type": "markdown",
   "metadata": {},
   "source": [
    "Centralized:"
   ]
  },
  {
   "cell_type": "code",
   "execution_count": 12,
   "metadata": {},
   "outputs": [
    {
     "data": {
      "text/plain": [
       "LogisticRegression(max_iter=10000)"
      ]
     },
     "execution_count": 12,
     "metadata": {},
     "output_type": "execute_result"
    }
   ],
   "source": [
    "classifier = LogisticRegression(max_iter=10000)\n",
    "classifier.fit(x_train, y_train)\n"
   ]
  },
  {
   "cell_type": "code",
   "execution_count": 13,
   "metadata": {},
   "outputs": [
    {
     "name": "stdout",
     "output_type": "stream",
     "text": [
      "Overall accuracy is: 0.5719624722923862\n",
      "Recalls: [0.8720331950207469, 0.3132861635220126, 0.5296352583586627, 0.9991472427515634, 0.8213448006254886, 0.9939310344827587, 0.09751203852327447, 0.6978959904724097, 0.27242647058823527, 0.26459143968871596, 0.066015625, 0.7679492264974217, 0.0]\n",
      "Precisions: [0.36833987661245093, 0.5577326801959412, 0.37829036635006785, 0.9997155858930603, 0.7249827467218771, 0.9997225305216426, 0.6603260869565217, 0.7009569377990431, 0.47744845360824745, 0.29272492466637967, 0.5888501742160279, 0.8189509306260575, 0]\n"
     ]
    }
   ],
   "source": [
    "# pred_full = classifier.predict(X_test)\n",
    "pred_full = classifier.predict(x_test)\n",
    "# correct_full = pred_full == Y_test\n",
    "correct_full = pred_full == y_test\n",
    "accuracy_full = np.mean(correct_full)\n",
    "print('Overall accuracy is:', accuracy_full)\n",
    "accs_full = []\n",
    "for i in range(len(input_file)+1):\n",
    "    if len(correct[y_test==i]) == 0:\n",
    "        accs_full.append(0)\n",
    "    else:\n",
    "        accs_full.append(np.mean(correct_full[y_test==i]))\n",
    "print('Recalls:', accs_full)\n",
    "recalls_full = []\n",
    "for i in range(len(input_file)+1):\n",
    "    if len(correct_full[pred_full==i]) == 0:\n",
    "        recalls_full.append(0)\n",
    "    else:\n",
    "        recalls_full.append(np.mean(correct_full[pred_full==i]))\n",
    "print('Precisions:', recalls_full)"
   ]
  },
  {
   "attachments": {},
   "cell_type": "markdown",
   "metadata": {},
   "source": [
    "Balancing the data"
   ]
  },
  {
   "cell_type": "code",
   "execution_count": 14,
   "metadata": {},
   "outputs": [
    {
     "name": "stdout",
     "output_type": "stream",
     "text": [
      "2000\n",
      "2000\n",
      "2000\n",
      "2000\n",
      "2000\n",
      "2000\n",
      "2000\n",
      "2000\n",
      "2000\n",
      "2000\n",
      "2000\n",
      "2000\n"
     ]
    },
    {
     "data": {
      "application/vnd.jupyter.widget-view+json": {
       "model_id": "88285053862549d09dd055331149bbdd",
       "version_major": 2,
       "version_minor": 0
      },
      "text/plain": [
       "HBox(children=(HTML(value=''), FloatProgress(value=0.0, max=12.0), HTML(value='')))"
      ]
     },
     "metadata": {},
     "output_type": "display_data"
    },
    {
     "name": "stdout",
     "output_type": "stream",
     "text": [
      "\n"
     ]
    },
    {
     "data": {
      "application/vnd.jupyter.widget-view+json": {
       "model_id": "d3e6d35b975a420d8fde3d6efef42cf0",
       "version_major": 2,
       "version_minor": 0
      },
      "text/plain": [
       "HBox(children=(HTML(value=''), FloatProgress(value=0.0, max=12.0), HTML(value='')))"
      ]
     },
     "metadata": {},
     "output_type": "display_data"
    },
    {
     "name": "stdout",
     "output_type": "stream",
     "text": [
      "\n",
      "total number is  24000\n",
      "The proportion of the nodes are: [0.08333333 0.08333333 0.08333333 0.08333333 0.08333333 0.08333333\n",
      " 0.08333333 0.08333333 0.08333333 0.08333333 0.08333333 0.08333333]\n"
     ]
    },
    {
     "data": {
      "application/vnd.jupyter.widget-view+json": {
       "model_id": "365460ad4579413d828feec069148b55",
       "version_major": 2,
       "version_minor": 0
      },
      "text/plain": [
       "HBox(children=(HTML(value=''), FloatProgress(value=0.0, max=12.0), HTML(value='')))"
      ]
     },
     "metadata": {},
     "output_type": "display_data"
    },
    {
     "name": "stdout",
     "output_type": "stream",
     "text": [
      "\n"
     ]
    },
    {
     "data": {
      "application/vnd.jupyter.widget-view+json": {
       "model_id": "55d75fd3b3184ed7a46bbe2515d86bbe",
       "version_major": 2,
       "version_minor": 0
      },
      "text/plain": [
       "HBox(children=(HTML(value=''), FloatProgress(value=0.0, max=12.0), HTML(value='')))"
      ]
     },
     "metadata": {},
     "output_type": "display_data"
    },
    {
     "name": "stdout",
     "output_type": "stream",
     "text": [
      "\n",
      "Accuracies: [1.0, 1.0, 0.9958847736625515, 1.0, 1.0, 1.0, 1.0, 1.0, 1.0, 1.0, 1.0, 0.9876543209876543, 0.9958847736625515]\n",
      "Recalls: [0.9983813531887342, 1.0, 1.0, 1.0, 1.0, 1.0, 1.0, 1.0, 1.0, 1.0, 1.0, 1.0, 1.0]\n",
      "Overall accuracy is: 0.9803333333333333\n",
      "Recalls: [1.0, 1.0, 0.9835390946502057, 0.9958847736625515, 0.9958847736625515, 0.9958847736625515, 0.9917695473251029, 0.9711934156378601, 0.8477366255144033, 0.897119341563786, 0.9794238683127572, 0.8600823045267489, 0.9958847736625515]\n",
      "Precisions: [1.0, 0.9838056680161943, 0.9958333333333333, 0.9958847736625515, 1.0, 0.9958847736625515, 0.9917695473251029, 0.8872180451127819, 0.8879310344827587, 0.9396551724137931, 0.8981132075471698, 0.9766355140186916, 0.9718875502008032]\n"
     ]
    }
   ],
   "source": [
    "columns_to_drop_bi = ['Attack_type']\n",
    "\n",
    "data_list = []\n",
    "for i in range(len(input_file)):\n",
    "    data = pd.read_csv(input_file[i])\n",
    "    data['attack_type'] = i + 1\n",
    "    data.loc[data.Attack_type == 'Normal', 'attack_type'] = 0\n",
    "    data.drop(columns = columns_to_drop_bi, inplace = True)\n",
    "    if len(data) < 2000:\n",
    "        data_list.append(data)\n",
    "    else:\n",
    "        data0 = data[data['attack_type'].isin([0])]\n",
    "        x1 = data0.sample(n = 1000, random_state = i + 42, axis = 0)\n",
    "        data1 = data[data['attack_type'].isin([i+1])]\n",
    "        x2 = data1.sample(n = 1000, random_state = i + 43, axis = 0)   \n",
    "        data_selected = pd.concat([x1, x2], ignore_index=True)  \n",
    "        data_list.append(data_selected) \n",
    "for i in range(len(data_list)):\n",
    "    print(len(data_list[i]))  \n",
    "\n",
    "\n",
    "rs = 42 # set the random state\n",
    "\n",
    "\n",
    "\n",
    "clfs = [] # This is going to contain 14 different classifiers\n",
    "n_samples = []\n",
    "x_train_list = []\n",
    "y_train_list = []\n",
    "x_test_list = []\n",
    "y_test_list = []\n",
    "y = [np.ones(len(data_list[i])) * (i + 1) for i in range(len(data_list))]\n",
    "for i in tqdm(range(len(input_file))): # reading the data\n",
    "    data0 = data_list[i]\n",
    "    y[i][data0.attack_type == 0] = 0\n",
    "    n_samples.append(len(y[i])) # the number of this node\n",
    "    x = data_list[i]\n",
    "    x.drop(columns='attack_type')\n",
    "    x.drop(columns='Attack_label')\n",
    "    x_train, x_test, y_train, y_test = train_test_split(x, y[i], test_size = 0.25, random_state = rs)\n",
    "    x_train_list.append(x_train)\n",
    "    y_train_list.append(y_train)\n",
    "    x_test_list.append(x_test)\n",
    "    y_test_list.append(y_test)\n",
    "\n",
    "x_train_full = pd.concat(x_train_list, ignore_index=True)\n",
    "scaler = scale.StandardScaler().fit(x_train_full)\n",
    "\n",
    "for i in range(len(input_file)):\n",
    "    x_train_list[i] = scaler.transform(x_train_list[i])\n",
    "\n",
    "for i in tqdm(range(len(input_file))):\n",
    "    classifier = LogisticRegression(max_iter=10000)\n",
    "    # classifier = SVC(kernel = 'rbf', random_state = rs, gamma='scale', max_iter=-1, probability=True)\n",
    "    # classifier.fit(data_list[i], y[i])\n",
    "    classifier.fit(x_train_list[i], y_train_list[i])\n",
    "    clfs.append(classifier)\n",
    "\n",
    "total_n_samples = np.sum(n_samples)\n",
    "print('total number is ',total_n_samples)\n",
    "p_nodes =  np.array(n_samples) / total_n_samples\n",
    "print('The proportion of the nodes are:', p_nodes)\n",
    "\n",
    "for i in range(len(input_file)):\n",
    "    x_test_list[i] = scaler.transform(x_test_list[i])\n",
    "\n",
    "x_test = np.vstack(x_test_list)\n",
    "y_test = np.hstack(y_test_list)\n",
    "x_train = np.vstack(x_train_list)\n",
    "y_train = np.hstack(y_train_list)\n",
    "\n",
    "# GMM\n",
    "from sklearn.mixture import GaussianMixture\n",
    "gms = []\n",
    "K = 15 # The number of the components of the GMM, one could change it by analyzing the graph\n",
    "for i in tqdm(range(len(input_file))):\n",
    "    x = x_train_list[i]\n",
    "    gm = GaussianMixture(n_components = K).fit(x)  \n",
    "    gms.append(gm)\n",
    "\n",
    "prediction_b = pred(x_test, clfs, p_nodes, gms)\n",
    "\n",
    "correct_b = prediction_b == y_test\n",
    "\n",
    "accs_b = []\n",
    "for i in range(len(input_file)+1):\n",
    "    if len(correct_b[y_test==i]) == 0:\n",
    "        accs_b.append(0)\n",
    "    else:\n",
    "        accs_b.append(np.mean(correct_b[y_test==i]))\n",
    "print('Accuracies:', accs_b)\n",
    "recalls_b = []\n",
    "for i in range(len(input_file)+1):\n",
    "    if len(correct_b[prediction_b==i]) == 0:\n",
    "        recalls_b.append(0)\n",
    "    else:\n",
    "        recalls_b.append(np.mean(correct_b[prediction_b==i]))\n",
    "print('Recalls:', recalls_b)\n",
    "\n",
    "classifier = LogisticRegression(max_iter=10000)\n",
    "classifier.fit(x_train, y_train)\n",
    "\n",
    "# pred_full = classifier.predict(X_test)\n",
    "pred_full_b = classifier.predict(x_test)\n",
    "# correct_full = pred_full == Y_test\n",
    "correct_full_b = pred_full_b == y_test\n",
    "accuracy_full_b = np.mean(correct_full_b)\n",
    "print('Overall accuracy is:', accuracy_full_b)\n",
    "accs_full_b = []\n",
    "for i in range(len(input_file)+1):\n",
    "    if len(correct_b[y_test==i]) == 0:\n",
    "        accs_full_b.append(0)\n",
    "    else:\n",
    "        accs_full_b.append(np.mean(correct_full_b[y_test==i]))\n",
    "print('Recalls:', accs_full_b)\n",
    "recalls_full_b = []\n",
    "for i in range(len(input_file)+1):\n",
    "    if len(correct_full_b[pred_full_b==i]) == 0:\n",
    "        recalls_full_b.append(0)\n",
    "    else:\n",
    "        recalls_full_b.append(np.mean(correct_full_b[pred_full_b==i]))\n",
    "print('Precisions:', recalls_full_b)\n"
   ]
  },
  {
   "cell_type": "code",
   "execution_count": 15,
   "metadata": {},
   "outputs": [
    {
     "data": {
      "image/png": "[encoded data removed]",
      "text/plain": [
       "<Figure size 432x288 with 1 Axes>"
      ]
     },
     "metadata": {
      "needs_background": "light"
     },
     "output_type": "display_data"
    },
    {
     "data": {
      "image/png": "[encoded data removed]",
      "text/plain": [
       "<Figure size 432x288 with 1 Axes>"
      ]
     },
     "metadata": {
      "needs_background": "light"
     },
     "output_type": "display_data"
    }
   ],
   "source": [
    "p_balanced = [12000]\n",
    "p_balanced += n_samples\n",
    "p_balanced /= np.sum(p_balanced)\n",
    "p_labels =[0.19,0.07765726, 0.08044133, 0.10732814, 0.07805038, 0.11043443, 0.07608478,\n",
    " 0.07670991, 0.08321894, 0.07854017, 0.07821794, 0.07674858, 0.07656813]\n",
    "fig,ax = plt.subplots()\n",
    "width = 0.4\n",
    "x1 = np.arange(len(input_file)+1)\n",
    "ax.bar(x1, np.array(recalls),width, alpha=0.7, label='Ensembled (unbalanced)', color='maroon')\n",
    "ax.bar(x1, np.array(accs_full),width, alpha=0.7, label='Full (unbalanced)', color='deepskyblue')\n",
    "ax.bar(x1+width, np.array(accs_b),width, alpha=0.7, label='Ensembled (balanced)', color='r')\n",
    "ax.bar(x1+width, np.array(accs_full_b),width, alpha=0.7,  label='Full (balanced)', color='b')\n",
    "plt.plot(x1, p_labels, color='y', linestyle= '--',label='Sample Proportion(unbalanced)')\n",
    "plt.plot(x1, p_balanced, color='lightsalmon',linestyle= '-', label='Sample Proportion (balanced)')\n",
    "\n",
    "ax.set_xticks(x1 +width/2)#将坐标设置在指定位置\n",
    "\n",
    "ax.set_xticklabels(x1)#将横坐标替换成\n",
    "plt.scatter(x1, p_labels, color='k')\n",
    "plt.xlabel('Class')\n",
    "plt.ylabel('Recall')\n",
    "plt.legend(bbox_to_anchor=(1.05, 0.5), loc=3, borderaxespad=0)\n",
    "plt.show()\n",
    "\n",
    "\n",
    "fig,ax = plt.subplots()\n",
    "ax.bar(x1, np.array(precisions),width, alpha=0.7, label='Ensembled (unbalanced)', color='maroon')\n",
    "ax.bar(x1, np.array(recalls_full),width, alpha=0.7, label='Full (unbalanced)', color='deepskyblue')\n",
    "ax.bar(x1+width, np.array(recalls_b),width, alpha=0.7, label='Ensembled (balanced)', color='r')\n",
    "ax.bar(x1+width, np.array(recalls_full_b),width, alpha=0.7,  label='Full (balanced)', color='b')\n",
    "plt.plot(x1, p_labels, color='y', linestyle= '--',label='Sample Proportion (unbalanced)')\n",
    "plt.plot(x1, p_balanced, color='lightsalmon',linestyle= '-', label='Sample Proportion (balanced)')\n",
    "\n",
    "ax.set_xticks(x1 +width/2)#将坐标设置在指定位置\n",
    "\n",
    "ax.set_xticklabels(x1)#将横坐标替换成\n",
    "plt.scatter(x1, p_labels, color='k')\n",
    "plt.xlabel('Class')\n",
    "plt.ylabel('Precisions')\n",
    "plt.legend(bbox_to_anchor=(1.05, 0.5), loc=3, borderaxespad=0)\n",
    "plt.show()"
   ]
  },
  {
   "cell_type": "code",
   "execution_count": null,
   "metadata": {},
   "outputs": [],
   "source": []
  }
 ],
 "metadata": {
  "interpreter": {
   "hash": "4ad6a9ebe595c8604775664ccb6b4edb43e0871577ed89c469f16f6efb723bbd"
  },
  "kernelspec": {
   "display_name": "Python 3.8.5 ('base')",
   "language": "python",
   "name": "python3"
  },
  "language_info": {
   "codemirror_mode": {
    "name": "ipython",
    "version": 3
   },
   "file_extension": ".py",
   "mimetype": "text/x-python",
   "name": "python",
   "nbconvert_exporter": "python",
   "pygments_lexer": "ipython3",
   "version": "3.8.5"
  },
  "orig_nbformat": 4
 },
 "nbformat": 4,
 "nbformat_minor": 2
}
